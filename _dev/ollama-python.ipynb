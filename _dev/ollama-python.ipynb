{
 "cells": [
  {
   "cell_type": "markdown",
   "metadata": {},
   "source": [
    "# Ollama Python Testing\n",
    "\n",
    "<https://github.com/ollama/ollama-python>"
   ]
  },
  {
   "cell_type": "code",
   "execution_count": 2,
   "metadata": {},
   "outputs": [],
   "source": [
    "import ollama"
   ]
  },
  {
   "cell_type": "markdown",
   "metadata": {},
   "source": [
    "## List Local Model"
   ]
  },
  {
   "cell_type": "code",
   "execution_count": 4,
   "metadata": {},
   "outputs": [
    {
     "data": {
      "text/plain": [
       "{'models': [{'name': 'llama3.2:3b',\n",
       "   'model': 'llama3.2:3b',\n",
       "   'modified_at': '2024-09-27T22:06:46.833745239+07:00',\n",
       "   'size': 2019393189,\n",
       "   'digest': 'a80c4f17acd55265feec403c7aef86be0c25983ab279d83f3bcd3abbcb5b8b72',\n",
       "   'details': {'parent_model': '',\n",
       "    'format': 'gguf',\n",
       "    'family': 'llama',\n",
       "    'families': ['llama'],\n",
       "    'parameter_size': '3.2B',\n",
       "    'quantization_level': 'Q4_K_M'}},\n",
       "  {'name': 'phi3.5:latest',\n",
       "   'model': 'phi3.5:latest',\n",
       "   'modified_at': '2024-09-20T19:37:39.72262503+07:00',\n",
       "   'size': 2176178843,\n",
       "   'digest': '61819fb370a3c1a9be6694869331e5f85f867a079e9271d66cb223acb81d04ba',\n",
       "   'details': {'parent_model': '',\n",
       "    'format': 'gguf',\n",
       "    'family': 'phi3',\n",
       "    'families': ['phi3'],\n",
       "    'parameter_size': '3.8B',\n",
       "    'quantization_level': 'Q4_0'}},\n",
       "  {'name': 'nomic-embed-text:v1.5',\n",
       "   'model': 'nomic-embed-text:v1.5',\n",
       "   'modified_at': '2024-09-11T23:33:43.947043393+07:00',\n",
       "   'size': 274302450,\n",
       "   'digest': '0a109f422b47e3a30ba2b10eca18548e944e8a23073ee3f3e947efcf3c45e59f',\n",
       "   'details': {'parent_model': '',\n",
       "    'format': 'gguf',\n",
       "    'family': 'nomic-bert',\n",
       "    'families': ['nomic-bert'],\n",
       "    'parameter_size': '137M',\n",
       "    'quantization_level': 'F16'}},\n",
       "  {'name': 'llama3.1:latest',\n",
       "   'model': 'llama3.1:latest',\n",
       "   'modified_at': '2024-09-11T22:59:00.389854689+07:00',\n",
       "   'size': 4661230766,\n",
       "   'digest': '42182419e9508c30c4b1fe55015f06b65f4ca4b9e28a744be55008d21998a093',\n",
       "   'details': {'parent_model': '',\n",
       "    'format': 'gguf',\n",
       "    'family': 'llama',\n",
       "    'families': ['llama'],\n",
       "    'parameter_size': '8.0B',\n",
       "    'quantization_level': 'Q4_0'}},\n",
       "  {'name': 'llama3.1:8b',\n",
       "   'model': 'llama3.1:8b',\n",
       "   'modified_at': '2024-09-11T22:57:54.260429792+07:00',\n",
       "   'size': 4661230766,\n",
       "   'digest': '42182419e9508c30c4b1fe55015f06b65f4ca4b9e28a744be55008d21998a093',\n",
       "   'details': {'parent_model': '',\n",
       "    'format': 'gguf',\n",
       "    'family': 'llama',\n",
       "    'families': ['llama'],\n",
       "    'parameter_size': '8.0B',\n",
       "    'quantization_level': 'Q4_0'}},\n",
       "  {'name': 'mario:latest',\n",
       "   'model': 'mario:latest',\n",
       "   'modified_at': '2024-06-16T01:38:16.995282128+07:00',\n",
       "   'size': 4661224842,\n",
       "   'digest': '8a8402c44ccd649b414eb79fb966d228bc86700217f98e047844051b507c6de1',\n",
       "   'details': {'parent_model': '',\n",
       "    'format': 'gguf',\n",
       "    'family': 'llama',\n",
       "    'families': ['llama'],\n",
       "    'parameter_size': '8.0B',\n",
       "    'quantization_level': 'Q4_0'}},\n",
       "  {'name': 'llama3:latest',\n",
       "   'model': 'llama3:latest',\n",
       "   'modified_at': '2024-06-16T01:37:40.47340458+07:00',\n",
       "   'size': 4661224676,\n",
       "   'digest': '365c0bd3c000a25d28ddbf732fe1c6add414de7275464c4e4d1c3b5fcb5d8ad1',\n",
       "   'details': {'parent_model': '',\n",
       "    'format': 'gguf',\n",
       "    'family': 'llama',\n",
       "    'families': ['llama'],\n",
       "    'parameter_size': '8.0B',\n",
       "    'quantization_level': 'Q4_0'}}]}"
      ]
     },
     "execution_count": 4,
     "metadata": {},
     "output_type": "execute_result"
    }
   ],
   "source": [
    "ollama.list()"
   ]
  },
  {
   "cell_type": "markdown",
   "metadata": {},
   "source": [
    "## Chat"
   ]
  },
  {
   "cell_type": "code",
   "execution_count": 4,
   "metadata": {},
   "outputs": [
    {
     "name": "stdout",
     "output_type": "stream",
     "text": [
      "Sawatdee! Hello Kittipos! It's nice to meet you. How can I assist you today?\n"
     ]
    }
   ],
   "source": [
    "response = ollama.chat(model='llama3.2:3b', messages=[\n",
    "  {\n",
    "    'role': 'user',\n",
    "    'content': 'Hello, my name is Kittipos',\n",
    "  },\n",
    "])\n",
    "print(response['message']['content'])"
   ]
  },
  {
   "cell_type": "code",
   "execution_count": 8,
   "metadata": {},
   "outputs": [
    {
     "name": "stdout",
     "output_type": "stream",
     "text": [
      "Forgive me, good sir Kittipos! Thou hadst but told me thy name, and now thou seekest confirmation of it? Verily, thy name is indeed Kittipos, as thou didst so kindly declare.\n"
     ]
    }
   ],
   "source": [
    "response = ollama.chat(model='llama3.2:3b', messages=[\n",
    "  {\n",
    "    \"role\": \"system\",\n",
    "    \"content\": \"You are a helpful assistant that reply in old english.\"\n",
    "  },\n",
    "  {\n",
    "    'role': 'user',\n",
    "    'content': 'Hello, my name is Kittipos',\n",
    "  },\n",
    "  { \n",
    "    \"role\": \"assistant\",\n",
    "    'content': \"Sawatdee! Hello Kittipos! It's nice to meet you. How can I assist you today?\"\n",
    "  },\n",
    "  {\n",
    "    \"role\": \"user\",\n",
    "    'content': \"What's my name?\"\n",
    "  }\n",
    "  \n",
    "])\n",
    "print(response['message']['content'])"
   ]
  },
  {
   "cell_type": "markdown",
   "metadata": {},
   "source": [
    "## Stream Response"
   ]
  },
  {
   "cell_type": "code",
   "execution_count": 1,
   "metadata": {},
   "outputs": [
    {
     "ename": "NameError",
     "evalue": "name 'ollama' is not defined",
     "output_type": "error",
     "traceback": [
      "\u001b[0;31m---------------------------------------------------------------------------\u001b[0m",
      "\u001b[0;31mNameError\u001b[0m                                 Traceback (most recent call last)",
      "Cell \u001b[0;32mIn[1], line 1\u001b[0m\n\u001b[0;32m----> 1\u001b[0m stream \u001b[38;5;241m=\u001b[39m \u001b[43mollama\u001b[49m\u001b[38;5;241m.\u001b[39mchat(\n\u001b[1;32m      2\u001b[0m     model\u001b[38;5;241m=\u001b[39m\u001b[38;5;124m'\u001b[39m\u001b[38;5;124mllama3.2:3b\u001b[39m\u001b[38;5;124m'\u001b[39m,\n\u001b[1;32m      3\u001b[0m     messages\u001b[38;5;241m=\u001b[39m[{\u001b[38;5;124m'\u001b[39m\u001b[38;5;124mrole\u001b[39m\u001b[38;5;124m'\u001b[39m: \u001b[38;5;124m'\u001b[39m\u001b[38;5;124muser\u001b[39m\u001b[38;5;124m'\u001b[39m, \u001b[38;5;124m'\u001b[39m\u001b[38;5;124mcontent\u001b[39m\u001b[38;5;124m'\u001b[39m: \u001b[38;5;124m'\u001b[39m\u001b[38;5;124mWhy is the sky blue?\u001b[39m\u001b[38;5;124m'\u001b[39m}],\n\u001b[1;32m      4\u001b[0m     stream\u001b[38;5;241m=\u001b[39m\u001b[38;5;28;01mTrue\u001b[39;00m,\n\u001b[1;32m      5\u001b[0m     \n\u001b[1;32m      6\u001b[0m )\n\u001b[1;32m      7\u001b[0m stream\n",
      "\u001b[0;31mNameError\u001b[0m: name 'ollama' is not defined"
     ]
    }
   ],
   "source": [
    "stream = ollama.chat(\n",
    "    model='llama3.2:3b',\n",
    "    messages=[{'role': 'user', 'content': 'Why is the sky blue?'}],\n",
    "    stream=True,\n",
    "    \n",
    ")\n",
    "stream"
   ]
  },
  {
   "cell_type": "code",
   "execution_count": 6,
   "metadata": {},
   "outputs": [
    {
     "name": "stdout",
     "output_type": "stream",
     "text": [
      "The sky appears blue because of a phenomenon called scattering, which occurs when sunlight interacts with tiny molecules of gases in the Earth's atmosphere, such as nitrogen and oxygen.\n",
      "\n",
      "Here's what happens:\n",
      "\n",
      "1. When sunlight enters the Earth's atmosphere, it encounters tiny molecules of gases like nitrogen (N2) and oxygen (O2).\n",
      "2. These molecules scatter the light in all directions, but they scatter shorter (blue) wavelengths more than longer (red) wavelengths.\n",
      "3. This is known as Rayleigh scattering, named after the British physicist Lord Rayleigh, who first described the phenomenon in the late 19th century.\n",
      "4. As a result of this scattering, the blue light is dispersed in all directions and reaches our eyes from all parts of the sky.\n",
      "5. The longer wavelengths of light, such as red and orange, are not scattered as much and continue to travel in a more direct path to our eyes, which is why we see them as more prominent colors during sunrise and sunset.\n",
      "\n",
      "So, to summarize, the sky appears blue because of the scattering of sunlight by tiny molecules in the atmosphere, which favors shorter wavelengths like blue over longer wavelengths like red."
     ]
    }
   ],
   "source": [
    "for chunk in stream:\n",
    "  print(chunk['message']['content'], end='', flush=True)"
   ]
  },
  {
   "cell_type": "markdown",
   "metadata": {},
   "source": [
    "## Client"
   ]
  },
  {
   "cell_type": "code",
   "execution_count": 2,
   "metadata": {},
   "outputs": [],
   "source": [
    "from ollama import Client\n",
    "\n",
    "client = Client(host='http://localhost:11434')\n",
    "response = client.chat(model='llama3.1', messages=[\n",
    "  {\n",
    "    'role': 'user',\n",
    "    'content': 'Why is the sky blue?',\n",
    "  },\n",
    "])"
   ]
  },
  {
   "cell_type": "code",
   "execution_count": 3,
   "metadata": {},
   "outputs": [
    {
     "data": {
      "text/plain": [
       "{'model': 'llama3.1',\n",
       " 'created_at': '2024-09-29T14:31:48.110895Z',\n",
       " 'message': {'role': 'assistant',\n",
       "  'content': \"The sky appears blue to us because of a phenomenon called scattering, which involves the interaction between sunlight and tiny molecules in the Earth's atmosphere. Here's why:\\n\\n**Scattering of light**\\n\\nWhen sunlight enters the Earth's atmosphere, it encounters various gases such as nitrogen (N2) and oxygen (O2), along with tiny particles like dust, water droplets, and pollutants. These particles are much smaller than the wavelength of light.\\n\\nLight is made up of different colors, which correspond to specific wavelengths. The visible spectrum includes colors from red (approximately 620-750 nanometers) to violet (approximately 380-450 nanometers). Blue light, with a wavelength around 450-495 nanometers, is particularly affected by the scattering process.\\n\\n**Short-wavelength light scatters more**\\n\\nThe tiny molecules in the atmosphere scatter shorter-wavelength light (like blue and violet) more efficiently than longer-wavelength light (like red and orange). This is because the smaller particles are better at interacting with the shorter wavelengths. As a result, the blue light is scattered in all directions.\\n\\n**Blue light reaches our eyes**\\n\\nAs blue light scatters throughout the atmosphere, it reaches our eyes from all sides of the sky. The amount of scattered blue light that enters our eyes determines the apparent color of the sky. When we look up at the sky on a clear day, the blue light dominates the visible spectrum, making the sky appear blue.\\n\\n**Why not violet?**\\n\\nYou might wonder why the sky doesn't appear violet instead of blue, since violet light has an even shorter wavelength than blue light. The reason is that our eyes are more sensitive to blue light than to violet light. In other words, we're more likely to perceive blue light as blue than violet light as violet.\\n\\n**Additional factors**\\n\\nOther atmospheric conditions can influence the apparent color of the sky:\\n\\n* **Clouds**: When clouds are present, they can scatter light in different ways, making the sky appear white or gray.\\n* **Air pollution**: Tiny particles like dust and pollutants can also affect the scattering process, sometimes resulting in a hazy or smoggy appearance.\\n* **Time of day**: During sunrise and sunset, when the sun is low on the horizon, the light travels through more of the atmosphere, which scatters longer wavelengths (like reds and oranges) than shorter wavelengths (like blues). This is why we often see those beautiful orange-red hues during these times.\\n\\nSo there you have it! The sky appears blue because of the scattering of sunlight by tiny molecules in the Earth's atmosphere.\"},\n",
       " 'done_reason': 'stop',\n",
       " 'done': True,\n",
       " 'total_duration': 26700508625,\n",
       " 'load_duration': 6840372709,\n",
       " 'prompt_eval_count': 16,\n",
       " 'prompt_eval_duration': 148430000,\n",
       " 'eval_count': 519,\n",
       " 'eval_duration': 19710878000}"
      ]
     },
     "execution_count": 3,
     "metadata": {},
     "output_type": "execute_result"
    }
   ],
   "source": [
    "response"
   ]
  },
  {
   "cell_type": "code",
   "execution_count": 10,
   "metadata": {},
   "outputs": [
    {
     "data": {
      "text/plain": [
       "<generator object Client._stream at 0x109085e00>"
      ]
     },
     "execution_count": 10,
     "metadata": {},
     "output_type": "execute_result"
    }
   ],
   "source": [
    "from ollama import Client\n",
    "\n",
    "client = Client(host='http://localhost:11434')\n",
    "stream = client.chat(model='llama3.1', stream=True,\n",
    "                       messages=[\n",
    "  {\n",
    "    'role': 'user',\n",
    "    'content': 'Hello there!',\n",
    "  },\n",
    "], \n",
    "                       )\n",
    "\n",
    "\n",
    "stream"
   ]
  },
  {
   "cell_type": "code",
   "execution_count": null,
   "metadata": {},
   "outputs": [],
   "source": []
  },
  {
   "cell_type": "code",
   "execution_count": 11,
   "metadata": {},
   "outputs": [
    {
     "name": "stdout",
     "output_type": "stream",
     "text": [
      "Hello\n",
      "Hello!\n",
      "Hello! It\n",
      "Hello! It's\n",
      "Hello! It's nice\n",
      "Hello! It's nice to\n",
      "Hello! It's nice to meet\n",
      "Hello! It's nice to meet you\n",
      "Hello! It's nice to meet you.\n",
      "Hello! It's nice to meet you. Is\n",
      "Hello! It's nice to meet you. Is there\n",
      "Hello! It's nice to meet you. Is there something\n",
      "Hello! It's nice to meet you. Is there something I\n",
      "Hello! It's nice to meet you. Is there something I can\n",
      "Hello! It's nice to meet you. Is there something I can help\n",
      "Hello! It's nice to meet you. Is there something I can help you\n",
      "Hello! It's nice to meet you. Is there something I can help you with\n",
      "Hello! It's nice to meet you. Is there something I can help you with,\n",
      "Hello! It's nice to meet you. Is there something I can help you with, or\n",
      "Hello! It's nice to meet you. Is there something I can help you with, or would\n",
      "Hello! It's nice to meet you. Is there something I can help you with, or would you\n",
      "Hello! It's nice to meet you. Is there something I can help you with, or would you like\n",
      "Hello! It's nice to meet you. Is there something I can help you with, or would you like to\n",
      "Hello! It's nice to meet you. Is there something I can help you with, or would you like to chat\n",
      "Hello! It's nice to meet you. Is there something I can help you with, or would you like to chat?\n",
      "Hello! It's nice to meet you. Is there something I can help you with, or would you like to chat?\n"
     ]
    }
   ],
   "source": [
    "text = []\n",
    "\n",
    "for chunk in stream:\n",
    "    #print(type(chunk))\n",
    "    # print(chunk[\"message\"][\"content\"], end='', flush=True)\n",
    "    text.append(chunk[\"message\"][\"content\"])\n",
    "    print(\"\".join(text))"
   ]
  },
  {
   "cell_type": "code",
   "execution_count": 11,
   "metadata": {},
   "outputs": [
    {
     "name": "stdout",
     "output_type": "stream",
     "text": [
      "Hello! How are you today? Is there something I can help you with or would you like to chat?"
     ]
    }
   ],
   "source": [
    "text = []\n",
    "\n",
    "for chunk in stream2:\n",
    "    #print(type(chunk))\n",
    "    print(chunk[\"message\"][\"content\"], end='', flush=True)\n",
    "    text.append(chunk[\"message\"][\"content\"])\n",
    "    "
   ]
  },
  {
   "cell_type": "code",
   "execution_count": 1,
   "metadata": {},
   "outputs": [],
   "source": [
    "import time\n",
    "time.sleep(1)"
   ]
  }
 ],
 "metadata": {
  "kernelspec": {
   "display_name": "Python 3",
   "language": "python",
   "name": "python3"
  },
  "language_info": {
   "codemirror_mode": {
    "name": "ipython",
    "version": 3
   },
   "file_extension": ".py",
   "mimetype": "text/x-python",
   "name": "python",
   "nbconvert_exporter": "python",
   "pygments_lexer": "ipython3",
   "version": "3.10.10"
  }
 },
 "nbformat": 4,
 "nbformat_minor": 2
}
