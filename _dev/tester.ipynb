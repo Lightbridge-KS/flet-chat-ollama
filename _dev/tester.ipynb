{
 "cells": [
  {
   "cell_type": "markdown",
   "metadata": {},
   "source": [
    "# Test Stuff"
   ]
  },
  {
   "cell_type": "code",
   "execution_count": 51,
   "metadata": {},
   "outputs": [
    {
     "ename": "TypeError",
     "evalue": "MyClass2.__init__() missing 1 required positional argument: 'a'",
     "output_type": "error",
     "traceback": [
      "\u001b[0;31m---------------------------------------------------------------------------\u001b[0m",
      "\u001b[0;31mTypeError\u001b[0m                                 Traceback (most recent call last)",
      "Cell \u001b[0;32mIn[51], line 16\u001b[0m\n\u001b[1;32m     13\u001b[0m     c: \u001b[38;5;28mint\u001b[39m \u001b[38;5;241m=\u001b[39m \u001b[38;5;241m5\u001b[39m\n\u001b[1;32m     15\u001b[0m myclass1 \u001b[38;5;241m=\u001b[39m MyClass1(\u001b[38;5;124m\"\u001b[39m\u001b[38;5;124mA\u001b[39m\u001b[38;5;124m\"\u001b[39m, \u001b[38;5;241m1\u001b[39m)\n\u001b[0;32m---> 16\u001b[0m myclass2 \u001b[38;5;241m=\u001b[39m \u001b[43mMyClass2\u001b[49m\u001b[43m(\u001b[49m\u001b[43mc\u001b[49m\u001b[43m \u001b[49m\u001b[38;5;241;43m=\u001b[39;49m\u001b[43m \u001b[49m\u001b[38;5;241;43m2\u001b[39;49m\u001b[43m)\u001b[49m\n\u001b[1;32m     17\u001b[0m \u001b[38;5;28mprint\u001b[39m(myclass1)\n\u001b[1;32m     18\u001b[0m \u001b[38;5;28mprint\u001b[39m(myclass2)\n",
      "\u001b[0;31mTypeError\u001b[0m: MyClass2.__init__() missing 1 required positional argument: 'a'"
     ]
    }
   ],
   "source": [
    "from dataclasses import dataclass\n",
    "\n",
    "@dataclass\n",
    "class BaseClass:\n",
    "    a: str\n",
    "\n",
    "@dataclass\n",
    "class MyClass1(BaseClass):\n",
    "    b: int\n",
    "    \n",
    "@dataclass\n",
    "class MyClass2(BaseClass):\n",
    "    c: int = 5\n",
    "\n",
    "myclass1 = MyClass1(\"A\", 1)\n",
    "myclass2 = MyClass2(c = 2)\n",
    "print(myclass1)\n",
    "print(myclass2)\n",
    "# myclass1 = MyClass()\n",
    "isinstance(myclass1, MyClass1)\n"
   ]
  },
  {
   "cell_type": "code",
   "execution_count": 49,
   "metadata": {},
   "outputs": [
    {
     "name": "stdout",
     "output_type": "stream",
     "text": [
      "MyClass2 A 4\n"
     ]
    }
   ],
   "source": [
    "cls = MyClass2(\"A\", 4)\n",
    "\n",
    "match cls:\n",
    "    case MyClass1():\n",
    "        print(f\"MyClass1 {cls.a}\")\n",
    "    case MyClass2():\n",
    "        print(f\"MyClass2 {cls.a} {cls.c}\")"
   ]
  },
  {
   "cell_type": "markdown",
   "metadata": {},
   "source": [
    "## Chat History"
   ]
  },
  {
   "cell_type": "code",
   "execution_count": null,
   "metadata": {},
   "outputs": [],
   "source": [
    "from dataclasses import dataclass\n",
    "\n",
    "@dataclass\n",
    "class ChatHistory:\n",
    "    role: str \n",
    "    content: str\n",
    "    "
   ]
  },
  {
   "cell_type": "code",
   "execution_count": 12,
   "metadata": {},
   "outputs": [
    {
     "data": {
      "text/plain": [
       "[{'role': 'system', 'content': 'You are a helpful assistance.'},\n",
       " {'role': 'system', 'content': 'Hello'}]"
      ]
     },
     "execution_count": 12,
     "metadata": {},
     "output_type": "execute_result"
    }
   ],
   "source": [
    "chat_hx = [{\"role\": \"system\", \"content\": \"You are a helpful assistance.\"}]\n",
    "chat_hx.append({\"role\": \"system\", \"content\": \"Hello\"})\n",
    "\n",
    "chat_hx"
   ]
  },
  {
   "cell_type": "code",
   "execution_count": 10,
   "metadata": {},
   "outputs": [
    {
     "name": "stdout",
     "output_type": "stream",
     "text": [
      "[ChatHistory(role='system', content='You are a helpful assistant.'), ChatHistory(role='system', content='Hello')]\n",
      "[{'role': 'system', 'content': 'You are a helpful assistant.'}, {'role': 'system', 'content': 'Hello'}]\n"
     ]
    }
   ],
   "source": [
    "from dataclasses import dataclass\n",
    "from typing import List, Dict\n",
    "\n",
    "# Define the ChatHistory dataclass\n",
    "@dataclass\n",
    "class ChatHistory:\n",
    "    role: str\n",
    "    content: str\n",
    "\n",
    "# Define a custom class to hold a list of ChatHistory instances\n",
    "class ChatHistoryList:\n",
    "    def __init__(self, chats: List[ChatHistory] = None):\n",
    "        # Initialize with an empty list or provided list of ChatHistory objects\n",
    "        self.chats = chats if chats else []\n",
    "\n",
    "    def append(self, chat_dict: Dict[str, str]):\n",
    "        # Check if the dictionary contains the required keys\n",
    "        if 'role' in chat_dict and 'content' in chat_dict:\n",
    "            # Convert dictionary to ChatHistory and append to the list\n",
    "            chat_history = ChatHistory(**chat_dict)\n",
    "            self.chats.append(chat_history)\n",
    "        else:\n",
    "            raise ValueError(\"Dictionary must contain 'role' and 'content' keys\")\n",
    "    \n",
    "    def to_dict(self):\n",
    "        return [chat_hx.__dict__ for chat_hx in self.chats]\n",
    "    \n",
    "    def __repr__(self):\n",
    "        # Customize the string representation to show the internal list of ChatHistory objects\n",
    "        return repr(self.chats)\n",
    "    \n",
    "    \n",
    "\n",
    "\n",
    "# Example Usage:\n",
    "# Initialize with a list of dictionaries\n",
    "chat_hx = ChatHistoryList([ChatHistory(role=\"system\", content=\"You are a helpful assistant.\")])\n",
    "\n",
    "# Append a dictionary to the chat history\n",
    "chat_hx.append({\"role\": \"system\", \"content\": \"Hello\"})\n",
    "\n",
    "# Print the chat history\n",
    "print(chat_hx)\n",
    "print(chat_hx.to_dict())\n"
   ]
  },
  {
   "cell_type": "code",
   "execution_count": 13,
   "metadata": {},
   "outputs": [
    {
     "data": {
      "text/plain": [
       "{'role': 'system', 'content': 'Hello'}"
      ]
     },
     "execution_count": 13,
     "metadata": {},
     "output_type": "execute_result"
    }
   ],
   "source": [
    "ChatHistoryList({\"role\": \"system\", \"content\": \"Hello\"})\n"
   ]
  },
  {
   "cell_type": "code",
   "execution_count": 7,
   "metadata": {},
   "outputs": [
    {
     "data": {
      "text/plain": [
       "{'role': 'A', 'content': 'B'}"
      ]
     },
     "execution_count": 7,
     "metadata": {},
     "output_type": "execute_result"
    }
   ],
   "source": [
    "ChatHistory(\"A\", \"B\").__dict__"
   ]
  }
 ],
 "metadata": {
  "kernelspec": {
   "display_name": "Python 3",
   "language": "python",
   "name": "python3"
  },
  "language_info": {
   "codemirror_mode": {
    "name": "ipython",
    "version": 3
   },
   "file_extension": ".py",
   "mimetype": "text/x-python",
   "name": "python",
   "nbconvert_exporter": "python",
   "pygments_lexer": "ipython3",
   "version": "3.10.10"
  }
 },
 "nbformat": 4,
 "nbformat_minor": 2
}
